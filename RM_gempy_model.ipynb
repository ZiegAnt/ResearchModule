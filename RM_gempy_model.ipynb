{
 "cells": [
  {
   "cell_type": "markdown",
   "id": "e29b9aa8-8210-43fa-9f26-f9e8331919c4",
   "metadata": {},
   "source": [
    "# Simplyfied geologic model of a volcanic diatreme structure\n"
   ]
  },
  {
   "cell_type": "markdown",
   "id": "8f95786a-f39a-4758-82f6-6085db57ce34",
   "metadata": {},
   "source": [
    "### written by A. Ziegon\n"
   ]
  },
  {
   "cell_type": "code",
   "execution_count": 1,
   "id": "3c196898-2c6d-417f-89f3-d12a55efb2b2",
   "metadata": {},
   "outputs": [
    {
     "name": "stdout",
     "output_type": "stream",
     "text": [
      "Not subsurface compatibility available\n"
     ]
    }
   ],
   "source": [
    "# Imports and settings\n",
    "%matplotlib inline\n",
    "from pyvista import set_plot_theme\n",
    "set_plot_theme('document')\n",
    "\n",
    "import gempy as gp\n",
    "\n",
    "# Importing auxiliary libraries\n",
    "import numpy as np\n",
    "import pandas as pd\n",
    "import matplotlib.pyplot as plt\n",
    "import os\n",
    "\n",
    "# Setting options\n",
    "np.random.seed(1515)\n",
    "pd.set_option('precision', 2)"
   ]
  },
  {
   "cell_type": "code",
   "execution_count": null,
   "id": "5906b12f-ad8c-4b90-b3b8-e3e5d29c014e",
   "metadata": {},
   "outputs": [],
   "source": [
    "geo_model = gp.create_model('simple_diatreme')\n"
   ]
  }
 ],
 "metadata": {
  "kernelspec": {
   "display_name": "Python 3 (ipykernel)",
   "language": "python",
   "name": "python3"
  },
  "language_info": {
   "codemirror_mode": {
    "name": "ipython",
    "version": 3
   },
   "file_extension": ".py",
   "mimetype": "text/x-python",
   "name": "python",
   "nbconvert_exporter": "python",
   "pygments_lexer": "ipython3",
   "version": "3.8.13"
  }
 },
 "nbformat": 4,
 "nbformat_minor": 5
}
