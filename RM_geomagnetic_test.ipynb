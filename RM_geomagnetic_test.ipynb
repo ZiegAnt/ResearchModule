{
 "cells": [
  {
   "cell_type": "code",
   "execution_count": 38,
   "id": "f326aa39-ff92-4f20-9aee-451fcf961a10",
   "metadata": {},
   "outputs": [],
   "source": [
    "import numpy as np\n",
    "import pygimli as pg\n",
    "import  pygimli.meshtools       as     mt\n",
    "from pygimli.viewer import pv\n",
    "from pygimli.physics.gravimetry import MagneticsModelling\n"
   ]
  },
  {
   "cell_type": "code",
   "execution_count": 39,
   "id": "8da5dd9b-c1d4-4455-894d-e0151b237f63",
   "metadata": {},
   "outputs": [
    {
     "data": {
      "text/plain": [
       "(<AxesSubplot:>, None)"
      ]
     },
     "execution_count": 39,
     "metadata": {},
     "output_type": "execute_result"
    },
    {
     "data": {
      "image/png": "[encoded data removed]",
      "text/plain": [
       "<Figure size 640x480 with 2 Axes>"
      ]
     },
     "metadata": {},
     "output_type": "display_data"
    }
   ],
   "source": [
    "# Create layered subsurface\n",
    "world = mt.createWorld([-150,-70], [150, 0])\n",
    "circle = mt.createCircle(pos=[0, -30], radius=5, marker=2)\n",
    "geom = world + circle\n",
    "mesh = mt.createMesh(geom, area=10)\n",
    "\n",
    "pg.show(geom)"
   ]
  },
  {
   "cell_type": "code",
   "execution_count": 40,
   "id": "4daed4f0-5e69-4052-ab5e-19b91ef4d742",
   "metadata": {},
   "outputs": [],
   "source": [
    "F, I, D = 50000e-9, 75, 25\n",
    "H = F * np.cos(np.deg2rad(I))\n",
    "X = H * np.cos(np.deg2rad(D))\n",
    "Y = H * np.sin(np.deg2rad(D))\n",
    "Z = F * np.sin(np.deg2rad(I))\n",
    "igrf = [D, I, H, X, Y, Z, F]\n",
    "\n",
    "points = np.array([[x,0] for x in np.linspace(-100,100,200)])\n",
    "# The forward operator\n",
    "cmp = [\"TFA\"]  # [\"Bx\", \"By\", \"Bz\"]"
   ]
  },
  {
   "cell_type": "code",
   "execution_count": 44,
   "id": "ce8fbd5f-ae84-48bc-8e5a-ad01033c0636",
   "metadata": {},
   "outputs": [
    {
     "ename": "TypeError",
     "evalue": "'module' object is not callable",
     "output_type": "error",
     "traceback": [
      "\u001b[1;31m---------------------------------------------------------------------------\u001b[0m",
      "\u001b[1;31mTypeError\u001b[0m                                 Traceback (most recent call last)",
      "\u001b[1;32m~\\AppData\\Local\\Temp\\ipykernel_13532\\2855981690.py\u001b[0m in \u001b[0;36m<module>\u001b[1;34m\u001b[0m\n\u001b[1;32m----> 1\u001b[1;33m \u001b[0mfop\u001b[0m \u001b[1;33m=\u001b[0m \u001b[0mpg\u001b[0m\u001b[1;33m.\u001b[0m\u001b[0mphysics\u001b[0m\u001b[1;33m.\u001b[0m\u001b[0mgravimetry\u001b[0m\u001b[1;33m.\u001b[0m\u001b[0mMagneticsModelling\u001b[0m\u001b[1;33m(\u001b[0m\u001b[0mmesh\u001b[0m\u001b[1;33m,\u001b[0m \u001b[0mpoints\u001b[0m\u001b[1;33m,\u001b[0m \u001b[0mcmp\u001b[0m\u001b[1;33m,\u001b[0m \u001b[0migrf\u001b[0m\u001b[1;33m)\u001b[0m\u001b[1;33m\u001b[0m\u001b[1;33m\u001b[0m\u001b[0m\n\u001b[0m",
      "\u001b[1;31mTypeError\u001b[0m: 'module' object is not callable"
     ]
    }
   ],
   "source": [
    "fop = pg.physics.gravimetry.MagneticsModelling(mesh, points, cmp, igrf)"
   ]
  },
  {
   "cell_type": "code",
   "execution_count": 27,
   "id": "cd7c9284-c7c0-444b-912c-1e9634c3a8fe",
   "metadata": {},
   "outputs": [
    {
     "ename": "NameError",
     "evalue": "name 'fop' is not defined",
     "output_type": "error",
     "traceback": [
      "\u001b[1;31m---------------------------------------------------------------------------\u001b[0m",
      "\u001b[1;31mNameError\u001b[0m                                 Traceback (most recent call last)",
      "\u001b[1;32m~\\AppData\\Local\\Temp\\ipykernel_13532\\1562127371.py\u001b[0m in \u001b[0;36m<module>\u001b[1;34m\u001b[0m\n\u001b[0;32m      1\u001b[0m \u001b[0mmodel\u001b[0m \u001b[1;33m=\u001b[0m \u001b[0mpg\u001b[0m\u001b[1;33m.\u001b[0m\u001b[0mVector\u001b[0m\u001b[1;33m(\u001b[0m\u001b[0mgrid\u001b[0m\u001b[1;33m.\u001b[0m\u001b[0mcellCount\u001b[0m\u001b[1;33m(\u001b[0m\u001b[1;33m)\u001b[0m\u001b[1;33m,\u001b[0m \u001b[1;36m1.0\u001b[0m\u001b[1;33m)\u001b[0m\u001b[1;33m\u001b[0m\u001b[1;33m\u001b[0m\u001b[0m\n\u001b[1;32m----> 2\u001b[1;33m \u001b[0mdata\u001b[0m \u001b[1;33m=\u001b[0m \u001b[0mfop\u001b[0m\u001b[1;33m.\u001b[0m\u001b[0mresponse\u001b[0m\u001b[1;33m(\u001b[0m\u001b[0mgrid\u001b[0m\u001b[1;33m[\u001b[0m\u001b[1;34m\"synth\"\u001b[0m\u001b[1;33m]\u001b[0m\u001b[1;33m)\u001b[0m\u001b[1;33m\u001b[0m\u001b[1;33m\u001b[0m\u001b[0m\n\u001b[0m",
      "\u001b[1;31mNameError\u001b[0m: name 'fop' is not defined"
     ]
    }
   ],
   "source": [
    "model = pg.Vector(grid.cellCount(), 1.0)\n",
    "data = fop.response(grid[\"synth\"])"
   ]
  },
  {
   "cell_type": "code",
   "execution_count": 31,
   "id": "d08231f4-6084-4143-bf15-d54ae8cc9740",
   "metadata": {},
   "outputs": [
    {
     "name": "stdout",
     "output_type": "stream",
     "text": [
      "Mesh: Nodes: 4851 Cells: 4000 Boundaries: 12800\n"
     ]
    },
    {
     "ename": "AttributeError",
     "evalue": "'Mesh' object has no attribute 'cell_data'",
     "output_type": "error",
     "traceback": [
      "\u001b[1;31m---------------------------------------------------------------------------\u001b[0m",
      "\u001b[1;31mAttributeError\u001b[0m                            Traceback (most recent call last)",
      "\u001b[1;32m~\\AppData\\Local\\Temp\\ipykernel_13532\\690118823.py\u001b[0m in \u001b[0;36m<module>\u001b[1;34m\u001b[0m\n\u001b[0;32m     13\u001b[0m \u001b[1;33m\u001b[0m\u001b[0m\n\u001b[0;32m     14\u001b[0m \u001b[0mpl\u001b[0m\u001b[1;33m,\u001b[0m \u001b[0m_\u001b[0m \u001b[1;33m=\u001b[0m \u001b[0mpg\u001b[0m\u001b[1;33m.\u001b[0m\u001b[0mshow\u001b[0m\u001b[1;33m(\u001b[0m\u001b[0mgrid\u001b[0m\u001b[1;33m,\u001b[0m \u001b[0mstyle\u001b[0m\u001b[1;33m=\u001b[0m\u001b[1;34m\"wireframe\"\u001b[0m\u001b[1;33m,\u001b[0m \u001b[0mhold\u001b[0m\u001b[1;33m=\u001b[0m\u001b[1;32mTrue\u001b[0m\u001b[1;33m)\u001b[0m\u001b[1;33m\u001b[0m\u001b[1;33m\u001b[0m\u001b[0m\n\u001b[1;32m---> 15\u001b[1;33m pv.drawMesh(pl, grid, label=\"synth\", style=\"surface\", cMap=\"Spectral_r\",\n\u001b[0m\u001b[0;32m     16\u001b[0m             filter={\"threshold\": dict(value=0.05, scalars=\"synth\")})\n\u001b[0;32m     17\u001b[0m \u001b[0mpl\u001b[0m\u001b[1;33m.\u001b[0m\u001b[0mcamera_position\u001b[0m \u001b[1;33m=\u001b[0m \u001b[1;34m\"yz\"\u001b[0m\u001b[1;33m\u001b[0m\u001b[1;33m\u001b[0m\u001b[0m\n",
      "\u001b[1;32m~\\anaconda3\\envs\\agp\\lib\\site-packages\\pygimli\\viewer\\pv\\draw.py\u001b[0m in \u001b[0;36mdrawMesh\u001b[1;34m(ax, mesh, notebook, **kwargs)\u001b[0m\n\u001b[0;32m     48\u001b[0m \u001b[1;33m\u001b[0m\u001b[0m\n\u001b[0;32m     49\u001b[0m     \u001b[1;31m# show_edges = kwargs.pop('show_edges', True)  # not used\u001b[0m\u001b[1;33m\u001b[0m\u001b[1;33m\u001b[0m\u001b[1;33m\u001b[0m\u001b[0m\n\u001b[1;32m---> 50\u001b[1;33m     \u001b[1;31m# name = kwargs.pop('name', 'Mesh')  # not used\u001b[0m\u001b[1;33m\u001b[0m\u001b[1;33m\u001b[0m\u001b[1;33m\u001b[0m\u001b[0m\n\u001b[0m\u001b[0;32m     51\u001b[0m \u001b[1;33m\u001b[0m\u001b[0m\n\u001b[0;32m     52\u001b[0m     \u001b[1;32mif\u001b[0m \u001b[0misinstance\u001b[0m\u001b[1;33m(\u001b[0m\u001b[0mmesh\u001b[0m\u001b[1;33m,\u001b[0m \u001b[0mpg\u001b[0m\u001b[1;33m.\u001b[0m\u001b[0mMesh\u001b[0m\u001b[1;33m)\u001b[0m\u001b[1;33m:\u001b[0m\u001b[1;33m\u001b[0m\u001b[1;33m\u001b[0m\u001b[0m\n",
      "\u001b[1;31mAttributeError\u001b[0m: 'Mesh' object has no attribute 'cell_data'"
     ]
    }
   ],
   "source": [
    "dx = 50\n",
    "x = np.arange(0., 1001, dx)\n",
    "y = np.arange(0., 1001, dx)\n",
    "z = np.arange(0., 501, dx)\n",
    "grid = pg.createGrid(x, y, z)\n",
    "print(grid)\n",
    "\n",
    "v = np.zeros((len(z)-1, len(y)-1, len(x)-1))\n",
    "for i in range(7):\n",
    "    v[1+i, 11-i:16-i, 7:13] = 0.05\n",
    "\n",
    "grid[\"synth\"] = v.ravel()\n",
    "\n",
    "pl, _ = pg.show(grid, style=\"wireframe\", hold=True)\n",
    "pv.drawMesh(pl, grid, label=\"synth\", style=\"surface\", cMap=\"Spectral_r\",\n",
    "            filter={\"threshold\": dict(value=0.05, scalars=\"synth\")})\n",
    "pl.camera_position = \"yz\"\n",
    "pl.camera.roll = 90\n",
    "pl.camera.azimuth = 180 - 15\n",
    "pl.camera.elevation = 10\n",
    "pl.camera.zoom(1.2)\n",
    "pl.show()\n",
    "\n",
    "\n",
    "F, I, D = 50000e-9, 75, 25\n",
    "H = F * np.cos(np.deg2rad(I))\n",
    "X = H * np.cos(np.deg2rad(D))\n",
    "Y = H * np.sin(np.deg2rad(D))\n",
    "Z = F * np.sin(np.deg2rad(I))\n",
    "igrf = [D, I, H, X, Y, Z, F]\n",
    "\n",
    "py, px = np.meshgrid(x, y)\n",
    "px = px.ravel()\n",
    "py = py.ravel()\n",
    "points = np.column_stack((px, py, -np.ones_like(px)*20))\n",
    "\n",
    "# The forward operator\n",
    "cmp = [\"TFA\"]  # [\"Bx\", \"By\", \"Bz\"]\n",
    "fop = MagneticsModelling(grid, points, cmp, igrf)\n",
    "model = pg.Vector(grid.cellCount(), 1.0)\n",
    "data = fop.response(grid[\"synth\"])"
   ]
  },
  {
   "cell_type": "code",
   "execution_count": null,
   "id": "b7074733-34d4-43bd-808b-ead9dfb39134",
   "metadata": {},
   "outputs": [],
   "source": []
  }
 ],
 "metadata": {
  "kernelspec": {
   "display_name": "Python 3 (ipykernel)",
   "language": "python",
   "name": "python3"
  },
  "language_info": {
   "codemirror_mode": {
    "name": "ipython",
    "version": 3
   },
   "file_extension": ".py",
   "mimetype": "text/x-python",
   "name": "python",
   "nbconvert_exporter": "python",
   "pygments_lexer": "ipython3",
   "version": "3.8.15"
  }
 },
 "nbformat": 4,
 "nbformat_minor": 5
}
