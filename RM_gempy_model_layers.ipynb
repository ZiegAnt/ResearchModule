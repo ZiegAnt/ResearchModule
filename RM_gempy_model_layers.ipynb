{
 "cells": [
  {
   "cell_type": "markdown",
   "id": "e29b9aa8-8210-43fa-9f26-f9e8331919c4",
   "metadata": {},
   "source": [
    "# Simplyfied geologic model of a layered subsurface\n"
   ]
  },
  {
   "cell_type": "markdown",
   "id": "8f95786a-f39a-4758-82f6-6085db57ce34",
   "metadata": {},
   "source": [
    "### written by A. Ziegon\n"
   ]
  },
  {
   "cell_type": "markdown",
   "id": "1f3fe789-4087-441c-bb85-aaa5cf563e32",
   "metadata": {},
   "source": [
    "Imports"
   ]
  },
  {
   "cell_type": "code",
   "execution_count": 1,
   "id": "3c196898-2c6d-417f-89f3-d12a55efb2b2",
   "metadata": {},
   "outputs": [
    {
     "name": "stdout",
     "output_type": "stream",
     "text": [
      "Not subsurface compatibility available\n"
     ]
    }
   ],
   "source": [
    "# Imports and settings\n",
    "%matplotlib inline\n",
    "from pyvista import set_plot_theme\n",
    "set_plot_theme('document')\n",
    "\n",
    "import gempy as gp\n",
    "\n",
    "# Importing auxiliary libraries\n",
    "import numpy as np\n",
    "import pandas as pd\n",
    "import matplotlib.pyplot as plt\n",
    "import os\n",
    "\n",
    "# Setting options\n",
    "np.random.seed(1515)\n",
    "pd.set_option('precision', 2)"
   ]
  },
  {
   "cell_type": "markdown",
   "id": "8fff5c9e-50da-4e68-b44c-bd9df80c7920",
   "metadata": {
    "tags": []
   },
   "source": [
    "### Loading surface points and orientations"
   ]
  },
  {
   "cell_type": "code",
   "execution_count": 2,
   "id": "5906b12f-ad8c-4b90-b3b8-e3e5d29c014e",
   "metadata": {},
   "outputs": [
    {
     "name": "stdout",
     "output_type": "stream",
     "text": [
      "Active grids: ['regular']\n"
     ]
    },
    {
     "data": {
      "text/plain": [
       "simple_layers  2022-11-26 14:55"
      ]
     },
     "execution_count": 2,
     "metadata": {},
     "output_type": "execute_result"
    }
   ],
   "source": [
    "geo_model_layers = gp.create_model('simple_layers')\n",
    "\n",
    "# Importing the data from CSV-files and setting extent and resolution\n",
    "gp.init_data(geo_model_layers, [0, 150, 0, 150., -60, 0], [40, 40, 40],\n",
    "             path_i='RM_surface_points_layers.csv', path_o='RM_orientations_layers.csv', default_values=True)"
   ]
  },
  {
   "cell_type": "markdown",
   "id": "b439898f-6efe-4080-baea-2430bdcef84b",
   "metadata": {},
   "source": [
    "Sorting formations"
   ]
  },
  {
   "cell_type": "code",
   "execution_count": 3,
   "id": "79ca620a-77e0-4160-bdd2-9adc8fea7d81",
   "metadata": {},
   "outputs": [
    {
     "data": {
      "text/html": [
       "<style type=\"text/css\">\n",
       "#T_83bb2_row0_col3 {\n",
       "  background-color: #015482;\n",
       "}\n",
       "#T_83bb2_row1_col3 {\n",
       "  background-color: #9f0052;\n",
       "}\n",
       "#T_83bb2_row2_col3 {\n",
       "  background-color: #ffbe00;\n",
       "}\n",
       "#T_83bb2_row3_col3 {\n",
       "  background-color: #728f02;\n",
       "}\n",
       "</style>\n",
       "<table id=\"T_83bb2_\">\n",
       "  <thead>\n",
       "    <tr>\n",
       "      <th class=\"blank level0\" >&nbsp;</th>\n",
       "      <th class=\"col_heading level0 col0\" >surface</th>\n",
       "      <th class=\"col_heading level0 col1\" >series</th>\n",
       "      <th class=\"col_heading level0 col2\" >order_surfaces</th>\n",
       "      <th class=\"col_heading level0 col3\" >color</th>\n",
       "      <th class=\"col_heading level0 col4\" >id</th>\n",
       "    </tr>\n",
       "  </thead>\n",
       "  <tbody>\n",
       "    <tr>\n",
       "      <th id=\"T_83bb2_level0_row0\" class=\"row_heading level0 row0\" >0</th>\n",
       "      <td id=\"T_83bb2_row0_col0\" class=\"data row0 col0\" >CSS</td>\n",
       "      <td id=\"T_83bb2_row0_col1\" class=\"data row0 col1\" >Layers</td>\n",
       "      <td id=\"T_83bb2_row0_col2\" class=\"data row0 col2\" >1</td>\n",
       "      <td id=\"T_83bb2_row0_col3\" class=\"data row0 col3\" >#015482</td>\n",
       "      <td id=\"T_83bb2_row0_col4\" class=\"data row0 col4\" >1</td>\n",
       "    </tr>\n",
       "    <tr>\n",
       "      <th id=\"T_83bb2_level0_row1\" class=\"row_heading level0 row1\" >1</th>\n",
       "      <td id=\"T_83bb2_row1_col0\" class=\"data row1 col0\" >SS</td>\n",
       "      <td id=\"T_83bb2_row1_col1\" class=\"data row1 col1\" >Layers</td>\n",
       "      <td id=\"T_83bb2_row1_col2\" class=\"data row1 col2\" >2</td>\n",
       "      <td id=\"T_83bb2_row1_col3\" class=\"data row1 col3\" >#9f0052</td>\n",
       "      <td id=\"T_83bb2_row1_col4\" class=\"data row1 col4\" >2</td>\n",
       "    </tr>\n",
       "    <tr>\n",
       "      <th id=\"T_83bb2_level0_row2\" class=\"row_heading level0 row2\" >2</th>\n",
       "      <td id=\"T_83bb2_row2_col0\" class=\"data row2 col0\" >Soil</td>\n",
       "      <td id=\"T_83bb2_row2_col1\" class=\"data row2 col1\" >Layers</td>\n",
       "      <td id=\"T_83bb2_row2_col2\" class=\"data row2 col2\" >3</td>\n",
       "      <td id=\"T_83bb2_row2_col3\" class=\"data row2 col3\" >#ffbe00</td>\n",
       "      <td id=\"T_83bb2_row2_col4\" class=\"data row2 col4\" >3</td>\n",
       "    </tr>\n",
       "    <tr>\n",
       "      <th id=\"T_83bb2_level0_row3\" class=\"row_heading level0 row3\" >3</th>\n",
       "      <td id=\"T_83bb2_row3_col0\" class=\"data row3 col0\" >basement</td>\n",
       "      <td id=\"T_83bb2_row3_col1\" class=\"data row3 col1\" >Layers</td>\n",
       "      <td id=\"T_83bb2_row3_col2\" class=\"data row3 col2\" >4</td>\n",
       "      <td id=\"T_83bb2_row3_col3\" class=\"data row3 col3\" >#728f02</td>\n",
       "      <td id=\"T_83bb2_row3_col4\" class=\"data row3 col4\" >4</td>\n",
       "    </tr>\n",
       "  </tbody>\n",
       "</table>\n"
      ],
      "text/plain": [
       "    surface  series  order_surfaces    color  id\n",
       "0       CSS  Layers               1  #015482   1\n",
       "1        SS  Layers               2  #9f0052   2\n",
       "2      Soil  Layers               3  #ffbe00   3\n",
       "3  basement  Layers               4  #728f02   4"
      ]
     },
     "execution_count": 3,
     "metadata": {},
     "output_type": "execute_result"
    }
   ],
   "source": [
    "gp.map_stack_to_surfaces(geo_model_layers,\n",
    "                         {\"Layers\":('Soil','SS','CSS','basement')},\n",
    "                         remove_unused_series=True)"
   ]
  },
  {
   "cell_type": "markdown",
   "id": "48bab8e1-ae78-43d3-979e-3bb2e65c7999",
   "metadata": {},
   "source": [
    "Set Colorscheme"
   ]
  },
  {
   "cell_type": "code",
   "execution_count": 4,
   "id": "9cd5a67d-b0b3-4333-a4b3-899d1045f046",
   "metadata": {},
   "outputs": [],
   "source": [
    "geo_model_layers.surfaces.colors.change_colors({'CSS': '#8b4513','SS':'#ff9912', 'basement': '#8b8878','Soil':'#bcee68'})"
   ]
  },
  {
   "cell_type": "markdown",
   "id": "1fdece76-4e3a-4da0-8492-4046f055820a",
   "metadata": {},
   "source": [
    "Set random topography"
   ]
  },
  {
   "cell_type": "code",
   "execution_count": 5,
   "id": "3b089cd4-039b-460d-8372-2e5ec29a46c9",
   "metadata": {},
   "outputs": [
    {
     "name": "stdout",
     "output_type": "stream",
     "text": [
      "[-12.   0.]\n",
      "Active grids: ['regular' 'topography']\n"
     ]
    },
    {
     "data": {
      "text/plain": [
       "Grid Object. Values: \n",
       "array([[  1.875     ,   1.875     , -59.25      ],\n",
       "       [  1.875     ,   1.875     , -57.75      ],\n",
       "       [  1.875     ,   1.875     , -56.25      ],\n",
       "       ...,\n",
       "       [150.        , 142.30769231,  -6.96252759],\n",
       "       [150.        , 146.15384615,  -7.05010959],\n",
       "       [150.        , 150.        ,  -6.23399294]])"
      ]
     },
     "execution_count": 5,
     "metadata": {},
     "output_type": "execute_result"
    }
   ],
   "source": [
    "geo_model_layers.set_topography(source='random')"
   ]
  },
  {
   "cell_type": "markdown",
   "id": "82f65b2b-227c-4a38-b7c6-73ad67819b24",
   "metadata": {
    "tags": []
   },
   "source": [
    "### First inspection of data points in 2D and 3D"
   ]
  },
  {
   "cell_type": "code",
   "execution_count": 6,
   "id": "b1ffa869-d9f5-4bd4-86b0-66833acc87ff",
   "metadata": {},
   "outputs": [
    {
     "name": "stderr",
     "output_type": "stream",
     "text": [
      "C:\\Users\\azieg\\anaconda3\\envs\\agp\\lib\\site-packages\\gempy\\plot\\plot_api.py:261: UserWarning: Matplotlib is currently using module://matplotlib_inline.backend_inline, which is a non-GUI backend, so cannot show the figure.\n",
      "  p.fig.show()\n"
     ]
    },
    {
     "data": {
      "image/png": "[encoded data removed]",
      "text/plain": [
       "<Figure size 1040x715 with 1 Axes>"
      ]
     },
     "metadata": {},
     "output_type": "display_data"
    }
   ],
   "source": [
    "plot = gp.plot_2d(geo_model_layers, show_lith=False, show_boundaries=False, show_topography=True)\n",
    "plt.show()\n",
    "\n",
    "gpv = gp.plot_3d(geo_model_layers, image=False, plotter_type='basic', show_topography=True)"
   ]
  },
  {
   "cell_type": "markdown",
   "id": "47838a17-bfe2-4540-ad4d-615b43e4a600",
   "metadata": {
    "tags": []
   },
   "source": [
    "### Set interpolator and solve model"
   ]
  },
  {
   "cell_type": "code",
   "execution_count": null,
   "id": "f41b3f32-7479-4267-bdf2-9df348cbfa74",
   "metadata": {},
   "outputs": [
    {
     "name": "stdout",
     "output_type": "stream",
     "text": [
      "Setting kriging parameters to their default values.\n",
      "Compiling theano function...\n"
     ]
    },
    {
     "name": "stderr",
     "output_type": "stream",
     "text": [
      "C:\\Users\\azieg\\anaconda3\\envs\\agp\\lib\\site-packages\\theano\\scan_module\\scan_perform_ext.py:75: UserWarning: The file scan_perform.c is not available. This donot happen normally. You are probably in a strangesetup. This mean Theano can not use the cython code for scan. If youwant to remove this warning, use the Theano flag'cxx=' (set to an empty string) to disable all ccode generation.\n",
      "  warnings.warn(\n",
      "C:\\Users\\azieg\\anaconda3\\envs\\agp\\lib\\site-packages\\theano\\scan_module\\scan_perform_ext.py:75: UserWarning: The file scan_perform.c is not available. This donot happen normally. You are probably in a strangesetup. This mean Theano can not use the cython code for scan. If youwant to remove this warning, use the Theano flag'cxx=' (set to an empty string) to disable all ccode generation.\n",
      "  warnings.warn(\n",
      "C:\\Users\\azieg\\anaconda3\\envs\\agp\\lib\\site-packages\\theano\\scan_module\\scan_perform_ext.py:75: UserWarning: The file scan_perform.c is not available. This donot happen normally. You are probably in a strangesetup. This mean Theano can not use the cython code for scan. If youwant to remove this warning, use the Theano flag'cxx=' (set to an empty string) to disable all ccode generation.\n",
      "  warnings.warn(\n"
     ]
    }
   ],
   "source": [
    "gp.set_interpolator(geo_model_layers, compile_theano=True, theano_optimizer='fast_compile')\n",
    "sol = gp.compute_model(geo_model_layers, debug=False)"
   ]
  },
  {
   "cell_type": "markdown",
   "id": "7dc98e1d-d72e-477e-9c22-e348a69b8552",
   "metadata": {},
   "source": [
    "Visualizing solution in 3D"
   ]
  },
  {
   "cell_type": "code",
   "execution_count": null,
   "id": "04935a2c-6810-40e8-988b-cff2ec65edbb",
   "metadata": {},
   "outputs": [],
   "source": [
    "ver, sim = gp.get_surfaces(geo_model_layers)\n",
    "gpv = gp.plot_3d(geo_model_layers, show_data=False, show_lith=True, image=False, plotter_type='basic')"
   ]
  },
  {
   "cell_type": "markdown",
   "id": "1d269e36-bfcd-4217-9067-a8d282978777",
   "metadata": {},
   "source": [
    "Visualizing cross sections for further insoection"
   ]
  },
  {
   "cell_type": "code",
   "execution_count": null,
   "id": "00dfb5cd-284d-416a-a973-3bc0c52cef0b",
   "metadata": {},
   "outputs": [],
   "source": [
    "gp.plot_2d(geo_model_layers, show_data=True, cell_number=0, direction='y', \n",
    "           plot_data=True, show_topography=True, section_names=['topography'])\n",
    "plt.show()\n",
    "# gp.plot_2d(geo_model_layers, show_data=True, cell_number=10, show_topography=True)\n",
    "# plt.show()\n",
    "# gp.plot_2d(geo_model_layers, show_data=True, cell_number=20, show_topography=True)\n",
    "# plt.show()\n",
    "# gp.plot_2d(geo_model_layers, show_data=True, cell_number=30, show_topography=True)\n",
    "# plt.show()"
   ]
  },
  {
   "cell_type": "code",
   "execution_count": null,
   "id": "0d2d6e4e-fa09-4e1e-be31-7f2b831f3525",
   "metadata": {},
   "outputs": [],
   "source": []
  }
 ],
 "metadata": {
  "kernelspec": {
   "display_name": "Python 3 (ipykernel)",
   "language": "python",
   "name": "python3"
  },
  "language_info": {
   "codemirror_mode": {
    "name": "ipython",
    "version": 3
   },
   "file_extension": ".py",
   "mimetype": "text/x-python",
   "name": "python",
   "nbconvert_exporter": "python",
   "pygments_lexer": "ipython3",
   "version": "3.8.15"
  }
 },
 "nbformat": 4,
 "nbformat_minor": 5
}
